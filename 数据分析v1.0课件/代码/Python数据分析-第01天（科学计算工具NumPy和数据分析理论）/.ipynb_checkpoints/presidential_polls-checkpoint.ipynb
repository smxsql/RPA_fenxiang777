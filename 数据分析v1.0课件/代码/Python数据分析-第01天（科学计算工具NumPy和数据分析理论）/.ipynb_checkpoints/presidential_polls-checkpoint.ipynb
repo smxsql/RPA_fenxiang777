{
 "cells": [
  {
   "cell_type": "code",
   "execution_count": 1,
   "metadata": {
    "collapsed": true
   },
   "outputs": [],
   "source": [
    "import numpy as np"
   ]
  },
  {
   "cell_type": "code",
   "execution_count": 2,
   "metadata": {
    "collapsed": true
   },
   "outputs": [],
   "source": [
    "filename = \"./presidential_polls.csv\""
   ]
  },
  {
   "cell_type": "code",
   "execution_count": 3,
   "metadata": {
    "collapsed": true
   },
   "outputs": [],
   "source": [
    "data_arr = np.loadtxt(filename, # 需要打开的csv文件的文件名\n",
    "           delimiter = \",\", # csv文件的分隔符\n",
    "           dtype=str, # 数据是按编码后的字符串格式存储\n",
    "           usecols=(3, 17, 18, 19) # 表示读取文件里的列的索引位置\n",
    "          )"
   ]
  },
  {
   "cell_type": "code",
   "execution_count": 28,
   "metadata": {
    "collapsed": false
   },
   "outputs": [
    {
     "name": "stdout",
     "output_type": "stream",
     "text": [
      "[[\"b'42.6414'\" \"b'40.86509'\" \"b'5.675099'\"]\n",
      " [\"b'43.29659'\" \"b'44.72984'\" \"b'3.401513'\"]\n",
      " [\"b'46.29779'\" \"b'40.72604'\" \"b'6.401513'\"]\n",
      " ..., \n",
      " [\"b'45.9713'\" \"b'39.97518'\" \"b''\"]\n",
      " [\"b'45.2939'\" \"b'46.66175'\" \"b'1.596946'\"]\n",
      " [\"b'31.62721'\" \"b'44.65947'\" \"b''\"]]\n"
     ]
    }
   ],
   "source": [
    "#print(data_arr)\n",
    "#data = data_arr[1, 2]\n",
    "#print(data)\n",
    "#data = data[2:-1]\n",
    "#print(float(data))\n",
    "newdata_arr = data_arr[1: ,1:4]\n",
    "for i in newdata_arr:\n",
    "    for data in i:\n",
    "        data = data[2:-1]\n",
    "#print(np.sum(data_arr[1:, 2:3]))"
   ]
  },
  {
   "cell_type": "code",
   "execution_count": null,
   "metadata": {
    "collapsed": true
   },
   "outputs": [],
   "source": []
  }
 ],
 "metadata": {
  "kernelspec": {
   "display_name": "Python 3",
   "language": "python",
   "name": "python3"
  },
  "language_info": {
   "codemirror_mode": {
    "name": "ipython",
    "version": 3
   },
   "file_extension": ".py",
   "mimetype": "text/x-python",
   "name": "python",
   "nbconvert_exporter": "python",
   "pygments_lexer": "ipython3",
   "version": "3.6.0"
  }
 },
 "nbformat": 4,
 "nbformat_minor": 2
}
