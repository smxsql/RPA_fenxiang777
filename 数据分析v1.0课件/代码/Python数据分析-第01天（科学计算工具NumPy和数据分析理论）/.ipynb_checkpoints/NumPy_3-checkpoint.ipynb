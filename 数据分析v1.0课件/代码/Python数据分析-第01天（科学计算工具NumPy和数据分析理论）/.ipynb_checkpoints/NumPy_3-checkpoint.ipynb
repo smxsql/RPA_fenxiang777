{
 "cells": [
  {
   "cell_type": "code",
   "execution_count": 1,
   "metadata": {
    "collapsed": true
   },
   "outputs": [],
   "source": [
    "import numpy as np"
   ]
  },
  {
   "cell_type": "code",
   "execution_count": 6,
   "metadata": {
    "collapsed": false
   },
   "outputs": [
    {
     "data": {
      "text/plain": [
       "array([[-1.29865481, -0.94144003, -1.04056459, -1.0996503 ],\n",
       "       [-1.03751222,  0.55244569, -0.37616673, -1.61383196],\n",
       "       [-0.87049471,  0.2936383 , -0.44177749,  0.93090927]])"
      ]
     },
     "execution_count": 6,
     "metadata": {},
     "output_type": "execute_result"
    }
   ],
   "source": [
    "arr = np.random.randn(3, 4)\n",
    "arr"
   ]
  },
  {
   "cell_type": "code",
   "execution_count": 7,
   "metadata": {
    "collapsed": false
   },
   "outputs": [
    {
     "name": "stdout",
     "output_type": "stream",
     "text": [
      "[[-1. -0. -1. -1.]\n",
      " [-1.  1. -0. -1.]\n",
      " [-0.  1. -0.  1.]]\n"
     ]
    }
   ],
   "source": [
    "# 取最接近的比自己大的整数\n",
    "print(np.ceil(arr))"
   ]
  },
  {
   "cell_type": "code",
   "execution_count": 8,
   "metadata": {
    "collapsed": false
   },
   "outputs": [
    {
     "name": "stdout",
     "output_type": "stream",
     "text": [
      "[[-2. -1. -2. -2.]\n",
      " [-2.  0. -1. -2.]\n",
      " [-1.  0. -1.  0.]]\n"
     ]
    }
   ],
   "source": [
    "# 取最接近的比自己小的整数\n",
    "print(np.floor(arr))"
   ]
  },
  {
   "cell_type": "code",
   "execution_count": 9,
   "metadata": {
    "collapsed": false
   },
   "outputs": [
    {
     "name": "stdout",
     "output_type": "stream",
     "text": [
      "[[-1. -1. -1. -1.]\n",
      " [-1.  1. -0. -2.]\n",
      " [-1.  0. -0.  1.]]\n"
     ]
    }
   ],
   "source": [
    "# 四舍五入\n",
    "print(np.rint(arr))"
   ]
  },
  {
   "cell_type": "code",
   "execution_count": 10,
   "metadata": {
    "collapsed": false
   },
   "outputs": [
    {
     "name": "stdout",
     "output_type": "stream",
     "text": [
      "[[ 1.29865481  0.94144003  1.04056459  1.0996503 ]\n",
      " [ 1.03751222  0.55244569  0.37616673  1.61383196]\n",
      " [ 0.87049471  0.2936383   0.44177749  0.93090927]]\n"
     ]
    }
   ],
   "source": [
    "print(np.abs(arr))"
   ]
  },
  {
   "cell_type": "code",
   "execution_count": null,
   "metadata": {
    "collapsed": true
   },
   "outputs": [],
   "source": []
  },
  {
   "cell_type": "code",
   "execution_count": null,
   "metadata": {
    "collapsed": true
   },
   "outputs": [],
   "source": []
  },
  {
   "cell_type": "code",
   "execution_count": null,
   "metadata": {
    "collapsed": true
   },
   "outputs": [],
   "source": []
  },
  {
   "cell_type": "code",
   "execution_count": null,
   "metadata": {
    "collapsed": true
   },
   "outputs": [],
   "source": []
  }
 ],
 "metadata": {
  "kernelspec": {
   "display_name": "Python 3",
   "language": "python",
   "name": "python3"
  },
  "language_info": {
   "codemirror_mode": {
    "name": "ipython",
    "version": 3
   },
   "file_extension": ".py",
   "mimetype": "text/x-python",
   "name": "python",
   "nbconvert_exporter": "python",
   "pygments_lexer": "ipython3",
   "version": "3.6.0"
  }
 },
 "nbformat": 4,
 "nbformat_minor": 2
}
